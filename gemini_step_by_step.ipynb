{
 "cells": [
  {
   "cell_type": "markdown",
   "metadata": {},
   "source": [
    "\n",
    "### 1. Having Access to `MDLS_API_KEY` from `.env` File\n",
    "\n",
    "With this approach, you avoid writing an API key in the code. Instead, you put it in the `.env` file. The code below reads the variables in the `.env` file and sets them as environment variables.\n",
    "In this particular case, we only defined one variable: `MDLS_API_KEY`.\n",
    "\n",
    "**Important**: put the `.env` file in the same location as this file, or the file that will call the LLM. For example, if the LLM is going to be called from an AHK file, then place the `.env` file in the same location as the AHK file.\n",
    "\n",
    "The contents of the `.env` file should look like this:\n",
    "```plaintext\n",
    "Key_1=Value_1\n",
    "Key_2=Value_2\n",
    "...\n",
    "Key_n=Value_n\n",
    "```\n",
    "**To check use:** \n",
    "```plaintext\n",
    "    1. print(os.environ.get(\"MDLS_API_KEY\")), or \n",
    "    2. print(os.environ[\"MDLS_API_KEY\"])\n",
    "```"
   ]
  },
  {
   "cell_type": "code",
   "execution_count": 1,
   "metadata": {},
   "outputs": [],
   "source": [
    "import os\n",
    "\n",
    "# Read variables from .env file and sets them as environment variables.\n",
    "with open(\".env\") as f:\n",
    "    for line in f:\n",
    "        key, value = line.strip().split(\"=\")\n",
    "        os.environ[key] = value\n",
    "\n",
    "# Get the environment var MDLS_API_KEY and use it in a print statement to check. \n",
    "# You can use it for anything you want, including to configure and use a LLM model :)\n",
    "# print(f'MDLS_API_KEY is: {os.environ[\"MDLS_API_KEY\"]}')"
   ]
  },
  {
   "cell_type": "markdown",
   "metadata": {},
   "source": [
    "### 2. Pass MDLS_API_KEY to Generative-AI library and instantiates the model to generate Text from Text (zero-shot approach)"
   ]
  },
  {
   "cell_type": "code",
   "execution_count": null,
   "metadata": {},
   "outputs": [],
   "source": [
    "import google.generativeai as genai \n",
    "\n",
    "genai.configure(api_key=os.environ[\"MDLS_API_KEY\"])\n",
    "model = genai.GenerativeModel(model_name=\"gemini-1.5-flash\")\n",
    "response = model.generate_content(\"Cuanto es la suma de 6 y 6?\")\n",
    "print(response.text)"
   ]
  },
  {
   "cell_type": "markdown",
   "metadata": {},
   "source": [
    "### 3. Pass MDLS_API_KEY to Generative-AI library and instantiates the model to generate Text from Text & Image (zero-shot approach)"
   ]
  },
  {
   "cell_type": "code",
   "execution_count": null,
   "metadata": {},
   "outputs": [],
   "source": [
    "import google.generativeai as genai #\n",
    "import PIL.Image\n",
    "\n",
    "genai.configure(api_key=os.environ[\"MDLS_API_KEY\"]) #\n",
    "model = genai.GenerativeModel(model_name=\"gemini-1.5-flash\") #\n",
    "organ = PIL.Image.open(\"media/organ.jpg\")\n",
    "response = model.generate_content([\"Tell me about this instrument\", organ])\n",
    "print(response.text)"
   ]
  }
 ],
 "metadata": {
  "kernelspec": {
   "display_name": "Python 3",
   "language": "python",
   "name": "python3"
  },
  "language_info": {
   "codemirror_mode": {
    "name": "ipython",
    "version": 3
   },
   "file_extension": ".py",
   "mimetype": "text/x-python",
   "name": "python",
   "nbconvert_exporter": "python",
   "pygments_lexer": "ipython3",
   "version": "3.11.5"
  }
 },
 "nbformat": 4,
 "nbformat_minor": 2
}
